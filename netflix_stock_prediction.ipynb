{
  "nbformat": 4,
  "nbformat_minor": 0,
  "metadata": {
    "colab": {
      "name": "netflix_stock_prediction.ipynb",
      "provenance": [],
      "collapsed_sections": []
    },
    "kernelspec": {
      "name": "python3",
      "display_name": "Python 3"
    },
    "language_info": {
      "name": "python"
    }
  },
  "cells": [
    {
      "cell_type": "code",
      "execution_count": null,
      "metadata": {
        "colab": {
          "base_uri": "https://localhost:8080/"
        },
        "id": "E-Tr73nTw5G_",
        "outputId": "4a2015ff-3b86-467d-8885-1ac857b2b502"
      },
      "outputs": [
        {
          "output_type": "stream",
          "name": "stdout",
          "text": [
            "Drive already mounted at /content/drive; to attempt to forcibly remount, call drive.mount(\"/content/drive\", force_remount=True).\n"
          ]
        }
      ],
      "source": [
        "from google.colab import drive\n",
        "drive.mount('/content/drive')"
      ]
    },
    {
      "cell_type": "code",
      "source": [
        "import pandas as pd\n",
        "import numpy as np\n",
        "\n",
        "\n",
        "netflix_df = pd.read_csv('netflix.csv')"
      ],
      "metadata": {
        "id": "81G4bYCKw-q6"
      },
      "execution_count": null,
      "outputs": []
    },
    {
      "cell_type": "code",
      "source": [
        "netflix_df.head(10)"
      ],
      "metadata": {
        "colab": {
          "base_uri": "https://localhost:8080/",
          "height": 363
        },
        "id": "SfOcY71qx2nq",
        "outputId": "34fe587f-13cf-4cf7-f384-815bcd6eddc5"
      },
      "execution_count": null,
      "outputs": [
        {
          "output_type": "execute_result",
          "data": {
            "text/plain": [
              "         Date        Open        High         Low       Close   Adj Close  \\\n",
              "0  2018-02-05  262.000000  267.899994  250.029999  254.259995  254.259995   \n",
              "1  2018-02-06  247.699997  266.700012  245.000000  265.720001  265.720001   \n",
              "2  2018-02-07  266.579987  272.450012  264.329987  264.559998  264.559998   \n",
              "3  2018-02-08  267.079987  267.619995  250.000000  250.100006  250.100006   \n",
              "4  2018-02-09  253.850006  255.800003  236.110001  249.470001  249.470001   \n",
              "5  2018-02-12  252.139999  259.149994  249.000000  257.950012  257.950012   \n",
              "6  2018-02-13  257.290009  261.410004  254.699997  258.269989  258.269989   \n",
              "7  2018-02-14  260.470001  269.880005  260.329987  266.000000  266.000000   \n",
              "8  2018-02-15  270.029999  280.500000  267.630005  280.269989  280.269989   \n",
              "9  2018-02-16  278.730011  281.959991  275.690002  278.519989  278.519989   \n",
              "\n",
              "     Volume  \n",
              "0  11896100  \n",
              "1  12595800  \n",
              "2   8981500  \n",
              "3   9306700  \n",
              "4  16906900  \n",
              "5   8534900  \n",
              "6   6855200  \n",
              "7  10972000  \n",
              "8  10759700  \n",
              "9   8312400  "
            ],
            "text/html": [
              "\n",
              "  <div id=\"df-ce2c42c8-9174-4677-ae92-10168f5938ac\">\n",
              "    <div class=\"colab-df-container\">\n",
              "      <div>\n",
              "<style scoped>\n",
              "    .dataframe tbody tr th:only-of-type {\n",
              "        vertical-align: middle;\n",
              "    }\n",
              "\n",
              "    .dataframe tbody tr th {\n",
              "        vertical-align: top;\n",
              "    }\n",
              "\n",
              "    .dataframe thead th {\n",
              "        text-align: right;\n",
              "    }\n",
              "</style>\n",
              "<table border=\"1\" class=\"dataframe\">\n",
              "  <thead>\n",
              "    <tr style=\"text-align: right;\">\n",
              "      <th></th>\n",
              "      <th>Date</th>\n",
              "      <th>Open</th>\n",
              "      <th>High</th>\n",
              "      <th>Low</th>\n",
              "      <th>Close</th>\n",
              "      <th>Adj Close</th>\n",
              "      <th>Volume</th>\n",
              "    </tr>\n",
              "  </thead>\n",
              "  <tbody>\n",
              "    <tr>\n",
              "      <th>0</th>\n",
              "      <td>2018-02-05</td>\n",
              "      <td>262.000000</td>\n",
              "      <td>267.899994</td>\n",
              "      <td>250.029999</td>\n",
              "      <td>254.259995</td>\n",
              "      <td>254.259995</td>\n",
              "      <td>11896100</td>\n",
              "    </tr>\n",
              "    <tr>\n",
              "      <th>1</th>\n",
              "      <td>2018-02-06</td>\n",
              "      <td>247.699997</td>\n",
              "      <td>266.700012</td>\n",
              "      <td>245.000000</td>\n",
              "      <td>265.720001</td>\n",
              "      <td>265.720001</td>\n",
              "      <td>12595800</td>\n",
              "    </tr>\n",
              "    <tr>\n",
              "      <th>2</th>\n",
              "      <td>2018-02-07</td>\n",
              "      <td>266.579987</td>\n",
              "      <td>272.450012</td>\n",
              "      <td>264.329987</td>\n",
              "      <td>264.559998</td>\n",
              "      <td>264.559998</td>\n",
              "      <td>8981500</td>\n",
              "    </tr>\n",
              "    <tr>\n",
              "      <th>3</th>\n",
              "      <td>2018-02-08</td>\n",
              "      <td>267.079987</td>\n",
              "      <td>267.619995</td>\n",
              "      <td>250.000000</td>\n",
              "      <td>250.100006</td>\n",
              "      <td>250.100006</td>\n",
              "      <td>9306700</td>\n",
              "    </tr>\n",
              "    <tr>\n",
              "      <th>4</th>\n",
              "      <td>2018-02-09</td>\n",
              "      <td>253.850006</td>\n",
              "      <td>255.800003</td>\n",
              "      <td>236.110001</td>\n",
              "      <td>249.470001</td>\n",
              "      <td>249.470001</td>\n",
              "      <td>16906900</td>\n",
              "    </tr>\n",
              "    <tr>\n",
              "      <th>5</th>\n",
              "      <td>2018-02-12</td>\n",
              "      <td>252.139999</td>\n",
              "      <td>259.149994</td>\n",
              "      <td>249.000000</td>\n",
              "      <td>257.950012</td>\n",
              "      <td>257.950012</td>\n",
              "      <td>8534900</td>\n",
              "    </tr>\n",
              "    <tr>\n",
              "      <th>6</th>\n",
              "      <td>2018-02-13</td>\n",
              "      <td>257.290009</td>\n",
              "      <td>261.410004</td>\n",
              "      <td>254.699997</td>\n",
              "      <td>258.269989</td>\n",
              "      <td>258.269989</td>\n",
              "      <td>6855200</td>\n",
              "    </tr>\n",
              "    <tr>\n",
              "      <th>7</th>\n",
              "      <td>2018-02-14</td>\n",
              "      <td>260.470001</td>\n",
              "      <td>269.880005</td>\n",
              "      <td>260.329987</td>\n",
              "      <td>266.000000</td>\n",
              "      <td>266.000000</td>\n",
              "      <td>10972000</td>\n",
              "    </tr>\n",
              "    <tr>\n",
              "      <th>8</th>\n",
              "      <td>2018-02-15</td>\n",
              "      <td>270.029999</td>\n",
              "      <td>280.500000</td>\n",
              "      <td>267.630005</td>\n",
              "      <td>280.269989</td>\n",
              "      <td>280.269989</td>\n",
              "      <td>10759700</td>\n",
              "    </tr>\n",
              "    <tr>\n",
              "      <th>9</th>\n",
              "      <td>2018-02-16</td>\n",
              "      <td>278.730011</td>\n",
              "      <td>281.959991</td>\n",
              "      <td>275.690002</td>\n",
              "      <td>278.519989</td>\n",
              "      <td>278.519989</td>\n",
              "      <td>8312400</td>\n",
              "    </tr>\n",
              "  </tbody>\n",
              "</table>\n",
              "</div>\n",
              "      <button class=\"colab-df-convert\" onclick=\"convertToInteractive('df-ce2c42c8-9174-4677-ae92-10168f5938ac')\"\n",
              "              title=\"Convert this dataframe to an interactive table.\"\n",
              "              style=\"display:none;\">\n",
              "        \n",
              "  <svg xmlns=\"http://www.w3.org/2000/svg\" height=\"24px\"viewBox=\"0 0 24 24\"\n",
              "       width=\"24px\">\n",
              "    <path d=\"M0 0h24v24H0V0z\" fill=\"none\"/>\n",
              "    <path d=\"M18.56 5.44l.94 2.06.94-2.06 2.06-.94-2.06-.94-.94-2.06-.94 2.06-2.06.94zm-11 1L8.5 8.5l.94-2.06 2.06-.94-2.06-.94L8.5 2.5l-.94 2.06-2.06.94zm10 10l.94 2.06.94-2.06 2.06-.94-2.06-.94-.94-2.06-.94 2.06-2.06.94z\"/><path d=\"M17.41 7.96l-1.37-1.37c-.4-.4-.92-.59-1.43-.59-.52 0-1.04.2-1.43.59L10.3 9.45l-7.72 7.72c-.78.78-.78 2.05 0 2.83L4 21.41c.39.39.9.59 1.41.59.51 0 1.02-.2 1.41-.59l7.78-7.78 2.81-2.81c.8-.78.8-2.07 0-2.86zM5.41 20L4 18.59l7.72-7.72 1.47 1.35L5.41 20z\"/>\n",
              "  </svg>\n",
              "      </button>\n",
              "      \n",
              "  <style>\n",
              "    .colab-df-container {\n",
              "      display:flex;\n",
              "      flex-wrap:wrap;\n",
              "      gap: 12px;\n",
              "    }\n",
              "\n",
              "    .colab-df-convert {\n",
              "      background-color: #E8F0FE;\n",
              "      border: none;\n",
              "      border-radius: 50%;\n",
              "      cursor: pointer;\n",
              "      display: none;\n",
              "      fill: #1967D2;\n",
              "      height: 32px;\n",
              "      padding: 0 0 0 0;\n",
              "      width: 32px;\n",
              "    }\n",
              "\n",
              "    .colab-df-convert:hover {\n",
              "      background-color: #E2EBFA;\n",
              "      box-shadow: 0px 1px 2px rgba(60, 64, 67, 0.3), 0px 1px 3px 1px rgba(60, 64, 67, 0.15);\n",
              "      fill: #174EA6;\n",
              "    }\n",
              "\n",
              "    [theme=dark] .colab-df-convert {\n",
              "      background-color: #3B4455;\n",
              "      fill: #D2E3FC;\n",
              "    }\n",
              "\n",
              "    [theme=dark] .colab-df-convert:hover {\n",
              "      background-color: #434B5C;\n",
              "      box-shadow: 0px 1px 3px 1px rgba(0, 0, 0, 0.15);\n",
              "      filter: drop-shadow(0px 1px 2px rgba(0, 0, 0, 0.3));\n",
              "      fill: #FFFFFF;\n",
              "    }\n",
              "  </style>\n",
              "\n",
              "      <script>\n",
              "        const buttonEl =\n",
              "          document.querySelector('#df-ce2c42c8-9174-4677-ae92-10168f5938ac button.colab-df-convert');\n",
              "        buttonEl.style.display =\n",
              "          google.colab.kernel.accessAllowed ? 'block' : 'none';\n",
              "\n",
              "        async function convertToInteractive(key) {\n",
              "          const element = document.querySelector('#df-ce2c42c8-9174-4677-ae92-10168f5938ac');\n",
              "          const dataTable =\n",
              "            await google.colab.kernel.invokeFunction('convertToInteractive',\n",
              "                                                     [key], {});\n",
              "          if (!dataTable) return;\n",
              "\n",
              "          const docLinkHtml = 'Like what you see? Visit the ' +\n",
              "            '<a target=\"_blank\" href=https://colab.research.google.com/notebooks/data_table.ipynb>data table notebook</a>'\n",
              "            + ' to learn more about interactive tables.';\n",
              "          element.innerHTML = '';\n",
              "          dataTable['output_type'] = 'display_data';\n",
              "          await google.colab.output.renderOutput(dataTable, element);\n",
              "          const docLink = document.createElement('div');\n",
              "          docLink.innerHTML = docLinkHtml;\n",
              "          element.appendChild(docLink);\n",
              "        }\n",
              "      </script>\n",
              "    </div>\n",
              "  </div>\n",
              "  "
            ]
          },
          "metadata": {},
          "execution_count": 34
        }
      ]
    },
    {
      "cell_type": "code",
      "source": [
        "import matplotlib.pyplot as plt\n",
        "%matplotlib inline\n",
        "\n",
        "train_size = int(len(netflix_df) * 0.75)\n",
        "test_size = int(len(netflix_df) - train_size)\n",
        "\n",
        "train_data = netflix_df[0:train_size]\n",
        "test_data = netflix_df[train_size:]\n",
        "\n",
        "def line_plot(line1, line2, label1=None, label2=None, title='', lw=2):\n",
        "    fig, ax = plt.subplots(1, figsize=(13, 7))\n",
        "    ax.plot(line1, label=label1, linewidth=lw, color='g')\n",
        "    ax.plot(line2, label=label2, linewidth=lw, color='r')\n",
        "    ax.set_ylabel('USD', fontsize=14)\n",
        "    ax.set_title(title, fontsize=16)\n",
        "    # ax.legend(loc='best', fontsize=16);\n",
        "    plt.ion()\n",
        "\n",
        "line_plot(train_data['Close'], test_data['Close'], 'training', 'test', title='')"
      ],
      "metadata": {
        "colab": {
          "base_uri": "https://localhost:8080/",
          "height": 428
        },
        "id": "KE1hcVNz-EdX",
        "outputId": "d076363c-2cea-417f-f5b1-2bd95b00617e"
      },
      "execution_count": null,
      "outputs": [
        {
          "output_type": "display_data",
          "data": {
            "text/plain": [
              "<Figure size 936x504 with 1 Axes>"
            ],
            "image/png": "[encoded data removed]"
          },
          "metadata": {
            "needs_background": "light"
          }
        }
      ]
    },
    {
      "cell_type": "code",
      "source": [
        "# LSTM is sensitive to scale data so we need to apply the MinMax Sclar for preprocess the data\n",
        "from sklearn.preprocessing import MinMaxScaler\n",
        "minmaxscaler = MinMaxScaler(feature_range=(0,1)) # Here feature_range means convert the data point to range between 0 to 1\n",
        "close_df = minmaxscaler.fit_transform(np.array(netflix_df['Close']).reshape(-1,1)) # Here reshape is should be used for LSTM"
      ],
      "metadata": {
        "id": "2uUwCeaO9aZM"
      },
      "execution_count": null,
      "outputs": []
    },
    {
      "cell_type": "code",
      "source": [
        "close_df.shape"
      ],
      "metadata": {
        "colab": {
          "base_uri": "https://localhost:8080/"
        },
        "id": "QWmJSO8T9t0S",
        "outputId": "519148e9-a799-44de-b9c8-fe62e8a3cd3b"
      },
      "execution_count": null,
      "outputs": [
        {
          "output_type": "execute_result",
          "data": {
            "text/plain": [
              "(1009, 1)"
            ]
          },
          "metadata": {},
          "execution_count": 37
        }
      ]
    },
    {
      "cell_type": "code",
      "source": [
        "train_size = int(len(close_df) * 0.75)\n",
        "test_size = int(len(close_df) - train_size)"
      ],
      "metadata": {
        "id": "5mF-zxnGzYJ1"
      },
      "execution_count": null,
      "outputs": []
    },
    {
      "cell_type": "code",
      "source": [
        "train_size, test_size"
      ],
      "metadata": {
        "colab": {
          "base_uri": "https://localhost:8080/"
        },
        "id": "fy7I2TJw1uCH",
        "outputId": "35f83265-1a5a-402b-e1b3-5da1c4539f4b"
      },
      "execution_count": null,
      "outputs": [
        {
          "output_type": "execute_result",
          "data": {
            "text/plain": [
              "(756, 253)"
            ]
          },
          "metadata": {},
          "execution_count": 39
        }
      ]
    },
    {
      "cell_type": "code",
      "source": [
        "train_data = close_df[0:train_size]\n",
        "test_data = close_df[train_size:]"
      ],
      "metadata": {
        "id": "BzWffk0J3dV5"
      },
      "execution_count": null,
      "outputs": []
    },
    {
      "cell_type": "code",
      "source": [
        "# convert the data array to data set matrix with time step \n",
        "\n",
        "''' \n",
        "  If Time step is '4' then X contains for '0' iteration ======> 0,1,2,3 and Y will be 4\n",
        "\n",
        "  Example For following Function\n",
        "\n",
        "  '0' iteration:\n",
        "  ------------------\n",
        "    X =================> 0:0+4 => 0:4 => 0,1,2,3\n",
        "    Y =================> 0+4   => 4   => 4\n",
        "'''\n",
        "\n",
        "def MakedataSet(dataset=None, timestep=None):\n",
        "  dataX,dataY= [],[]\n",
        "  for i in range(len(dataset)-timestep-1):\n",
        "    dataX.append(dataset[i:(i+timestep), 0]) \n",
        "    dataY.append(dataset[i + timestep, 0]) \n",
        "  return np.array(dataX), np.array(dataY)"
      ],
      "metadata": {
        "id": "B6a0bEKZ16Ec"
      },
      "execution_count": null,
      "outputs": []
    },
    {
      "cell_type": "code",
      "source": [
        "timestep= 75\n",
        "X_train, Y_train = MakedataSet(train_data, timestep)\n",
        "x_test, y_test = MakedataSet(test_data, timestep)"
      ],
      "metadata": {
        "id": "Iso6V2pt7pYs"
      },
      "execution_count": null,
      "outputs": []
    },
    {
      "cell_type": "code",
      "source": [
        "# reshape input to be [samples, time steps, features] which is required for LSTM\n",
        "\n",
        "X_train = X_train.reshape(X_train.shape[0], X_train.shape[1], 1)\n",
        "x_test = x_test.reshape(x_test.shape[0], x_test.shape[1], 1)"
      ],
      "metadata": {
        "id": "v9L0qJb-_cTi"
      },
      "execution_count": null,
      "outputs": []
    },
    {
      "cell_type": "code",
      "source": [
        "# Create the Staked LSTM-RNN\n",
        "\n",
        "from tensorflow.keras.models import Sequential\n",
        "from tensorflow.keras.layers import Dense, LSTM, Dropout\n",
        "\n",
        "model = Sequential()\n",
        "model.add(LSTM(50, return_sequences=True, input_shape=(75,1)))\n",
        "model.add(LSTM(50, return_sequences=True))\n",
        "model.add(Dropout(0.2))\n",
        "model.add(LSTM(50))\n",
        "model.add(Dropout(0.3))\n",
        "model.add(Dense(1))\n",
        "model.compile(loss='mean_squared_error',optimizer='adam')"
      ],
      "metadata": {
        "id": "MqoaMTJDAFON"
      },
      "execution_count": null,
      "outputs": []
    },
    {
      "cell_type": "code",
      "source": [
        "model.summary()"
      ],
      "metadata": {
        "colab": {
          "base_uri": "https://localhost:8080/"
        },
        "id": "CeSlqVuzAJkt",
        "outputId": "448d300c-b054-49fd-fe6f-3da945d6d63d"
      },
      "execution_count": null,
      "outputs": [
        {
          "output_type": "stream",
          "name": "stdout",
          "text": [
            "Model: \"sequential_2\"\n",
            "_________________________________________________________________\n",
            " Layer (type)                Output Shape              Param #   \n",
            "=================================================================\n",
            " lstm_6 (LSTM)               (None, 75, 50)            10400     \n",
            "                                                                 \n",
            " lstm_7 (LSTM)               (None, 75, 50)            20200     \n",
            "                                                                 \n",
            " dropout_4 (Dropout)         (None, 75, 50)            0         \n",
            "                                                                 \n",
            " lstm_8 (LSTM)               (None, 50)                20200     \n",
            "                                                                 \n",
            " dropout_5 (Dropout)         (None, 50)                0         \n",
            "                                                                 \n",
            " dense_2 (Dense)             (None, 1)                 51        \n",
            "                                                                 \n",
            "=================================================================\n",
            "Total params: 50,851\n",
            "Trainable params: 50,851\n",
            "Non-trainable params: 0\n",
            "_________________________________________________________________\n"
          ]
        }
      ]
    },
    {
      "cell_type": "code",
      "source": [
        "model_fit_history = model.fit(X_train,Y_train,validation_data=(x_test,y_test),epochs=50,batch_size=32,verbose=1)"
      ],
      "metadata": {
        "id": "n-YHFs5yAMQq",
        "colab": {
          "base_uri": "https://localhost:8080/"
        },
        "outputId": "f7b0d3ce-94bb-487d-c23d-8f4797d5d50d"
      },
      "execution_count": null,
      "outputs": [
        {
          "output_type": "stream",
          "name": "stdout",
          "text": [
            "Epoch 1/50\n",
            "22/22 [==============================] - 68s 188ms/step - loss: 0.0279 - val_loss: 0.0193\n",
            "Epoch 2/50\n",
            "22/22 [==============================] - 2s 111ms/step - loss: 0.0070 - val_loss: 0.0179\n",
            "Epoch 3/50\n",
            "22/22 [==============================] - 2s 111ms/step - loss: 0.0052 - val_loss: 0.0086\n",
            "Epoch 4/50\n",
            "22/22 [==============================] - 2s 113ms/step - loss: 0.0044 - val_loss: 0.0165\n",
            "Epoch 5/50\n",
            "22/22 [==============================] - 2s 111ms/step - loss: 0.0045 - val_loss: 0.0118\n",
            "Epoch 6/50\n",
            "22/22 [==============================] - 2s 111ms/step - loss: 0.0045 - val_loss: 0.0072\n",
            "Epoch 7/50\n",
            "22/22 [==============================] - 2s 111ms/step - loss: 0.0044 - val_loss: 0.0082\n",
            "Epoch 8/50\n",
            "22/22 [==============================] - 2s 110ms/step - loss: 0.0049 - val_loss: 0.0112\n",
            "Epoch 9/50\n",
            "22/22 [==============================] - 2s 110ms/step - loss: 0.0046 - val_loss: 0.0065\n",
            "Epoch 10/50\n",
            "22/22 [==============================] - 2s 110ms/step - loss: 0.0047 - val_loss: 0.0075\n",
            "Epoch 11/50\n",
            "22/22 [==============================] - 2s 111ms/step - loss: 0.0041 - val_loss: 0.0062\n",
            "Epoch 12/50\n",
            "22/22 [==============================] - 2s 111ms/step - loss: 0.0039 - val_loss: 0.0058\n",
            "Epoch 13/50\n",
            "22/22 [==============================] - 2s 110ms/step - loss: 0.0038 - val_loss: 0.0056\n",
            "Epoch 14/50\n",
            "22/22 [==============================] - 2s 110ms/step - loss: 0.0037 - val_loss: 0.0054\n",
            "Epoch 15/50\n",
            "22/22 [==============================] - 2s 110ms/step - loss: 0.0034 - val_loss: 0.0053\n",
            "Epoch 16/50\n",
            "22/22 [==============================] - 2s 111ms/step - loss: 0.0037 - val_loss: 0.0051\n",
            "Epoch 17/50\n",
            "22/22 [==============================] - 2s 111ms/step - loss: 0.0035 - val_loss: 0.0059\n",
            "Epoch 18/50\n",
            "22/22 [==============================] - 2s 111ms/step - loss: 0.0034 - val_loss: 0.0055\n",
            "Epoch 19/50\n",
            "22/22 [==============================] - 2s 112ms/step - loss: 0.0032 - val_loss: 0.0048\n",
            "Epoch 20/50\n",
            "22/22 [==============================] - 2s 110ms/step - loss: 0.0031 - val_loss: 0.0046\n",
            "Epoch 21/50\n",
            "22/22 [==============================] - 2s 111ms/step - loss: 0.0030 - val_loss: 0.0058\n",
            "Epoch 22/50\n",
            "22/22 [==============================] - 2s 110ms/step - loss: 0.0037 - val_loss: 0.0110\n",
            "Epoch 23/50\n",
            "22/22 [==============================] - 2s 110ms/step - loss: 0.0036 - val_loss: 0.0048\n",
            "Epoch 24/50\n",
            "22/22 [==============================] - 2s 111ms/step - loss: 0.0034 - val_loss: 0.0046\n",
            "Epoch 25/50\n",
            "22/22 [==============================] - 2s 111ms/step - loss: 0.0030 - val_loss: 0.0042\n",
            "Epoch 26/50\n",
            "22/22 [==============================] - 2s 111ms/step - loss: 0.0028 - val_loss: 0.0047\n",
            "Epoch 27/50\n",
            "22/22 [==============================] - 2s 111ms/step - loss: 0.0032 - val_loss: 0.0068\n",
            "Epoch 28/50\n",
            "22/22 [==============================] - 2s 110ms/step - loss: 0.0029 - val_loss: 0.0039\n",
            "Epoch 29/50\n",
            "22/22 [==============================] - 2s 111ms/step - loss: 0.0029 - val_loss: 0.0039\n",
            "Epoch 30/50\n",
            "22/22 [==============================] - 2s 111ms/step - loss: 0.0026 - val_loss: 0.0046\n",
            "Epoch 31/50\n",
            "22/22 [==============================] - 2s 112ms/step - loss: 0.0032 - val_loss: 0.0040\n",
            "Epoch 32/50\n",
            "22/22 [==============================] - 2s 109ms/step - loss: 0.0024 - val_loss: 0.0035\n",
            "Epoch 33/50\n",
            "22/22 [==============================] - 2s 110ms/step - loss: 0.0026 - val_loss: 0.0038\n",
            "Epoch 34/50\n",
            "22/22 [==============================] - 3s 131ms/step - loss: 0.0027 - val_loss: 0.0048\n",
            "Epoch 35/50\n",
            "22/22 [==============================] - 2s 110ms/step - loss: 0.0029 - val_loss: 0.0038\n",
            "Epoch 36/50\n",
            "22/22 [==============================] - 2s 111ms/step - loss: 0.0023 - val_loss: 0.0035\n",
            "Epoch 37/50\n",
            "22/22 [==============================] - 2s 112ms/step - loss: 0.0024 - val_loss: 0.0035\n",
            "Epoch 38/50\n",
            "22/22 [==============================] - 2s 110ms/step - loss: 0.0025 - val_loss: 0.0043\n",
            "Epoch 39/50\n",
            "22/22 [==============================] - 2s 110ms/step - loss: 0.0026 - val_loss: 0.0080\n",
            "Epoch 40/50\n",
            "22/22 [==============================] - 2s 111ms/step - loss: 0.0029 - val_loss: 0.0033\n",
            "Epoch 41/50\n",
            "22/22 [==============================] - 2s 111ms/step - loss: 0.0021 - val_loss: 0.0038\n",
            "Epoch 42/50\n",
            "22/22 [==============================] - 2s 109ms/step - loss: 0.0024 - val_loss: 0.0032\n",
            "Epoch 43/50\n",
            "22/22 [==============================] - 2s 111ms/step - loss: 0.0020 - val_loss: 0.0038\n",
            "Epoch 44/50\n",
            "22/22 [==============================] - 2s 111ms/step - loss: 0.0022 - val_loss: 0.0031\n",
            "Epoch 45/50\n",
            "22/22 [==============================] - 2s 111ms/step - loss: 0.0022 - val_loss: 0.0040\n",
            "Epoch 46/50\n",
            "22/22 [==============================] - 2s 112ms/step - loss: 0.0021 - val_loss: 0.0042\n",
            "Epoch 47/50\n",
            "22/22 [==============================] - 2s 111ms/step - loss: 0.0022 - val_loss: 0.0038\n",
            "Epoch 48/50\n",
            "22/22 [==============================] - 2s 111ms/step - loss: 0.0022 - val_loss: 0.0029\n",
            "Epoch 49/50\n",
            "22/22 [==============================] - 2s 113ms/step - loss: 0.0019 - val_loss: 0.0028\n",
            "Epoch 50/50\n",
            "22/22 [==============================] - 2s 112ms/step - loss: 0.0019 - val_loss: 0.0027\n"
          ]
        }
      ]
    },
    {
      "cell_type": "code",
      "source": [
        "plt.plot(model_fit_history.history['loss'], 'g', linewidth=2, label='Training Loss')\n",
        "plt.plot(model_fit_history.history['val_loss'], 'r', linewidth=2, label='Training Loss')\n",
        "plt.xlabel('EPOCH')\n",
        "plt.ylabel('MSE')\n",
        "plt.show()"
      ],
      "metadata": {
        "id": "LReRZD9UAP60",
        "colab": {
          "base_uri": "https://localhost:8080/",
          "height": 279
        },
        "outputId": "31b736f0-c5d1-4b4c-d5b9-0cf54db0e0f0"
      },
      "execution_count": null,
      "outputs": [
        {
          "output_type": "display_data",
          "data": {
            "text/plain": [
              "<Figure size 432x288 with 1 Axes>"
            ],
            "image/png": "[encoded data removed]"
          },
          "metadata": {
            "needs_background": "light"
          }
        }
      ]
    },
    {
      "cell_type": "code",
      "source": [
        "# Let's Do the Prediction\n",
        "train_predict = model.predict(X_train)\n",
        "test_predict = model.predict(x_test)"
      ],
      "metadata": {
        "id": "UabUpQ_BpPSD"
      },
      "execution_count": null,
      "outputs": []
    },
    {
      "cell_type": "code",
      "source": [
        "#Transformback to original form\n",
        "train_predict=minmaxscaler.inverse_transform(train_predict)\n",
        "test_predict=minmaxscaler.inverse_transform(test_predict)"
      ],
      "metadata": {
        "id": "FeIQmD6EqeTe"
      },
      "execution_count": null,
      "outputs": []
    },
    {
      "cell_type": "code",
      "source": [
        "# ## Plotting \n",
        "# shift train predictions for plotting\n",
        "look_back=75\n",
        "trainPredictPlot = np.empty_like(close_df)\n",
        "trainPredictPlot[:, :] = np.nan\n",
        "trainPredictPlot[look_back:len(train_predict)+look_back, :] = train_predict\n",
        "# shift test predictions for plotting\n",
        "testPredictPlot = np.empty_like(close_df)\n",
        "testPredictPlot[:, :] = np.nan\n",
        "testPredictPlot[len(train_predict)+(look_back*2)+1:len(close_df)-1, :] = test_predict\n",
        "# plot baseline and predictions\n",
        "plt.plot(minmaxscaler.inverse_transform(close_df))\n",
        "plt.plot(trainPredictPlot, 'g')\n",
        "plt.plot(testPredictPlot, 'r')\n",
        "plt.show()"
      ],
      "metadata": {
        "colab": {
          "base_uri": "https://localhost:8080/",
          "height": 265
        },
        "id": "hF3avfDMp-4C",
        "outputId": "8e700b16-b846-41ff-b54a-556f5203b0dd"
      },
      "execution_count": null,
      "outputs": [
        {
          "output_type": "display_data",
          "data": {
            "text/plain": [
              "<Figure size 432x288 with 1 Axes>"
            ],
            "image/png": "[encoded data removed]"
          },
          "metadata": {
            "needs_background": "light"
          }
        }
      ]
    },
    {
      "cell_type": "code",
      "source": [
        "model.save('netflix_model.h5')"
      ],
      "metadata": {
        "id": "-M4PV9xdqGPs"
      },
      "execution_count": null,
      "outputs": []
    },
    {
      "cell_type": "code",
      "source": [
        "import joblib\n",
        "scaler_filename = \"scaler.pkl\"\n",
        "joblib.dump(minmaxscaler, scaler_filename) \n"
      ],
      "metadata": {
        "colab": {
          "base_uri": "https://localhost:8080/"
        },
        "id": "G9oDux8orSqz",
        "outputId": "2dba6a5e-f3dd-4b2f-fcd3-e46a52376004"
      },
      "execution_count": null,
      "outputs": [
        {
          "output_type": "execute_result",
          "data": {
            "text/plain": [
              "['/content/drive/My Drive/Datasets/netflix/scaler.pkl']"
            ]
          },
          "metadata": {},
          "execution_count": 62
        }
      ]
    },
    {
      "cell_type": "code",
      "source": [
        ""
      ],
      "metadata": {
        "id": "uX556Y3oraeq"
      },
      "execution_count": null,
      "outputs": []
    }
  ]
}